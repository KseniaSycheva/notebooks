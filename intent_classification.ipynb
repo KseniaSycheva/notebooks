{
  "cells": [
    {
      "cell_type": "code",
      "execution_count": null,
      "id": "705fbaa4",
      "metadata": {
        "_cell_guid": "b1076dfc-b9ad-4769-8c92-a6c4dae69d19",
        "_uuid": "8f2839f25d086af736a60e9eeb907d3b93b6e0e5",
        "execution": {
          "iopub.execute_input": "2022-07-22T10:20:45.022431Z",
          "iopub.status.busy": "2022-07-22T10:20:45.021498Z",
          "iopub.status.idle": "2022-07-22T10:20:45.037084Z",
          "shell.execute_reply": "2022-07-22T10:20:45.036056Z"
        },
        "papermill": {
          "duration": 0.026261,
          "end_time": "2022-07-22T10:20:45.040406",
          "exception": false,
          "start_time": "2022-07-22T10:20:45.014145",
          "status": "completed"
        },
        "tags": [],
        "id": "705fbaa4",
        "outputId": "716da1be-6db6-456e-c542-b019f126a15d"
      },
      "outputs": [
        {
          "name": "stdout",
          "output_type": "stream",
          "text": [
            "/kaggle/input/intent-detection-by-sinch/sample.csv\n",
            "/kaggle/input/intent-detection-by-sinch/y_train.csv\n",
            "/kaggle/input/intent-detection-by-sinch/X_test.npy\n",
            "/kaggle/input/intent-detection-by-sinch/X_train.npy\n"
          ]
        }
      ],
      "source": [
        "# This Python 3 environment comes with many helpful analytics libraries installed\n",
        "# It is defined by the kaggle/python Docker image: https://github.com/kaggle/docker-python\n",
        "# For example, here's several helpful packages to load\n",
        "\n",
        "import numpy as np # linear algebra\n",
        "import pandas as pd # data processing, CSV file I/O (e.g. pd.read_csv)\n",
        "\n",
        "# Input data files are available in the read-only \"../input/\" directory\n",
        "# For example, running this (by clicking run or pressing Shift+Enter) will list all files under the input directory\n",
        "\n",
        "import os\n",
        "import warnings\n",
        "\n",
        "warnings.filterwarnings(\"ignore\")\n",
        "\n",
        "for dirname, _, filenames in os.walk('/kaggle/input'):\n",
        "    for filename in filenames:\n",
        "        print(os.path.join(dirname, filename))\n",
        "\n",
        "# You can write up to 20GB to the current directory (/kaggle/working/) that gets preserved as output when you create a version using \"Save & Run All\" \n",
        "# You can also write temporary files to /kaggle/temp/, but they won't be saved outside of the current session"
      ]
    },
    {
      "cell_type": "code",
      "execution_count": null,
      "id": "78af3c47",
      "metadata": {
        "execution": {
          "iopub.execute_input": "2022-07-22T10:20:45.052098Z",
          "iopub.status.busy": "2022-07-22T10:20:45.051432Z",
          "iopub.status.idle": "2022-07-22T10:21:12.957648Z",
          "shell.execute_reply": "2022-07-22T10:21:12.956238Z"
        },
        "papermill": {
          "duration": 27.914454,
          "end_time": "2022-07-22T10:21:12.960333",
          "exception": false,
          "start_time": "2022-07-22T10:20:45.045879",
          "status": "completed"
        },
        "tags": [],
        "id": "78af3c47"
      },
      "outputs": [],
      "source": [
        "!pip install transformers==4.19.0\n",
        "!pip install datasets"
      ]
    },
    {
      "cell_type": "markdown",
      "source": [
        "## Imports and data loading"
      ],
      "metadata": {
        "id": "2T9lb_nj_Tlq"
      },
      "id": "2T9lb_nj_Tlq"
    },
    {
      "cell_type": "code",
      "execution_count": null,
      "id": "0e55e29c",
      "metadata": {
        "execution": {
          "iopub.execute_input": "2022-07-22T10:21:12.973589Z",
          "iopub.status.busy": "2022-07-22T10:21:12.973251Z",
          "iopub.status.idle": "2022-07-22T10:21:21.255034Z",
          "shell.execute_reply": "2022-07-22T10:21:21.254024Z"
        },
        "papermill": {
          "duration": 8.291684,
          "end_time": "2022-07-22T10:21:21.257895",
          "exception": false,
          "start_time": "2022-07-22T10:21:12.966211",
          "status": "completed"
        },
        "tags": [],
        "id": "0e55e29c"
      },
      "outputs": [],
      "source": [
        "from sklearn.model_selection import train_test_split\n",
        "\n",
        "import torch\n",
        "from torch.utils.data import Dataset\n",
        "\n",
        "from transformers import AutoModelForSequenceClassification, RobertaForSequenceClassification, RobertaConfig\n",
        "from transformers import TrainerCallback, Trainer, TrainingArguments\n",
        "from transformers import AdamW, get_linear_schedule_with_warmup\n",
        "from transformers.trainer_utils import IntervalStrategy\n",
        "from datasets import load_metric"
      ]
    },
    {
      "cell_type": "code",
      "execution_count": null,
      "id": "ad859594",
      "metadata": {
        "execution": {
          "iopub.execute_input": "2022-07-22T10:21:21.271647Z",
          "iopub.status.busy": "2022-07-22T10:21:21.271064Z",
          "iopub.status.idle": "2022-07-22T10:21:21.568265Z",
          "shell.execute_reply": "2022-07-22T10:21:21.567222Z"
        },
        "papermill": {
          "duration": 0.306365,
          "end_time": "2022-07-22T10:21:21.570638",
          "exception": false,
          "start_time": "2022-07-22T10:21:21.264273",
          "status": "completed"
        },
        "tags": [],
        "id": "ad859594"
      },
      "outputs": [],
      "source": [
        "data_folder = '/kaggle/input/intent-detection-by-sinch/'\n",
        "X_train = np.load(os.path.join(data_folder, 'X_train.npy'))\n",
        "X_test = np.load(os.path.join(data_folder, 'X_test.npy'))\n",
        "\n",
        "y_train = pd.read_csv(os.path.join(data_folder, 'y_train.csv')).Predicted.to_numpy()"
      ]
    },
    {
      "cell_type": "code",
      "execution_count": null,
      "id": "48a2fc79",
      "metadata": {
        "execution": {
          "iopub.execute_input": "2022-07-22T10:21:21.583711Z",
          "iopub.status.busy": "2022-07-22T10:21:21.583376Z",
          "iopub.status.idle": "2022-07-22T10:21:21.588927Z",
          "shell.execute_reply": "2022-07-22T10:21:21.587827Z"
        },
        "papermill": {
          "duration": 0.016042,
          "end_time": "2022-07-22T10:21:21.592683",
          "exception": false,
          "start_time": "2022-07-22T10:21:21.576641",
          "status": "completed"
        },
        "tags": [],
        "id": "48a2fc79",
        "outputId": "74fc855a-5fd2-4979-fbdb-0440253d5ad3"
      },
      "outputs": [
        {
          "name": "stdout",
          "output_type": "stream",
          "text": [
            "(1663, 768)\n",
            "(713, 768)\n",
            "(1663,)\n"
          ]
        }
      ],
      "source": [
        "print(X_train.shape)\n",
        "print(X_test.shape)\n",
        "print(y_train.shape)"
      ]
    },
    {
      "cell_type": "markdown",
      "source": [
        "## Setting parameters"
      ],
      "metadata": {
        "id": "3rJBt5NN_d-0"
      },
      "id": "3rJBt5NN_d-0"
    },
    {
      "cell_type": "code",
      "execution_count": null,
      "id": "649f1dff",
      "metadata": {
        "execution": {
          "iopub.execute_input": "2022-07-22T10:21:21.605534Z",
          "iopub.status.busy": "2022-07-22T10:21:21.605218Z",
          "iopub.status.idle": "2022-07-22T10:21:21.612377Z",
          "shell.execute_reply": "2022-07-22T10:21:21.611390Z"
        },
        "papermill": {
          "duration": 0.016223,
          "end_time": "2022-07-22T10:21:21.614596",
          "exception": false,
          "start_time": "2022-07-22T10:21:21.598373",
          "status": "completed"
        },
        "tags": [],
        "id": "649f1dff"
      },
      "outputs": [],
      "source": [
        "DEVICE = torch.device('cuda')\n",
        "params = {\n",
        "    \"model_type\": \"roberta\", \n",
        "    \"hidden_size\": 768, \n",
        "    \"num_attention_heads\": 12, \n",
        "    \"num_hidden_layers\": 12, \n",
        "    \"return_dict\": True, \n",
        "    \"is_decoder\": True, \n",
        "    \"add_cross_attention\": True, \n",
        "    \"architectures\": [\"RobertaForSequenceClassification\"], \n",
        "    \"num_labels\": 45, \n",
        "    \"problem_type\": \"single_label_classification\", \n",
        "    \"intermediate_size\": 3072, \n",
        "    \"hidden_act\": \"gelu\", \n",
        "    \"hidden_dropout_prob\": 0.1, \n",
        "    \"attention_probs_dropout_prob\": 0.1, \n",
        "    \"max_position_embeddings\": 512, \n",
        "    \"initializer_range\": 0.02, \n",
        "    \"layer_norm_eps\": 1e-05, \n",
        "    \"classifier_dropout\": 0.1, \n",
        "    \"pad_token_id\": 1, \n",
        "    \"bos_token_id\": 0,\n",
        "    \"eos_token_id\": 2,\n",
        "         }"
      ]
    },
    {
      "cell_type": "markdown",
      "source": [
        "## Model and optimizer initialization"
      ],
      "metadata": {
        "id": "uABWBZj8AEuS"
      },
      "id": "uABWBZj8AEuS"
    },
    {
      "cell_type": "code",
      "execution_count": null,
      "id": "d032501b",
      "metadata": {
        "execution": {
          "iopub.execute_input": "2022-07-22T10:21:21.627271Z",
          "iopub.status.busy": "2022-07-22T10:21:21.626984Z",
          "iopub.status.idle": "2022-07-22T10:21:31.038167Z",
          "shell.execute_reply": "2022-07-22T10:21:31.037054Z"
        },
        "papermill": {
          "duration": 9.420476,
          "end_time": "2022-07-22T10:21:31.040779",
          "exception": false,
          "start_time": "2022-07-22T10:21:21.620303",
          "status": "completed"
        },
        "tags": [],
        "id": "d032501b"
      },
      "outputs": [],
      "source": [
        "config = RobertaConfig.from_dict(params)\n",
        "model = AutoModelForSequenceClassification.from_config(config).to(DEVICE)"
      ]
    },
    {
      "cell_type": "code",
      "execution_count": null,
      "id": "df8acf11",
      "metadata": {
        "execution": {
          "iopub.execute_input": "2022-07-22T10:21:31.054250Z",
          "iopub.status.busy": "2022-07-22T10:21:31.053914Z",
          "iopub.status.idle": "2022-07-22T10:21:31.079797Z",
          "shell.execute_reply": "2022-07-22T10:21:31.078755Z"
        },
        "papermill": {
          "duration": 0.035507,
          "end_time": "2022-07-22T10:21:31.082275",
          "exception": false,
          "start_time": "2022-07-22T10:21:31.046768",
          "status": "completed"
        },
        "tags": [],
        "id": "df8acf11",
        "outputId": "cd8a3100-cf3d-4fe1-9c1f-270ddadaef7e"
      },
      "outputs": [
        {
          "data": {
            "text/plain": [
              "((1330, 768), (333, 768))"
            ]
          },
          "execution_count": 8,
          "metadata": {},
          "output_type": "execute_result"
        }
      ],
      "source": [
        "class CustomDataset(Dataset):\n",
        "    def __init__(self, embedding, label):\n",
        "        self.embedding = embedding\n",
        "        self.labels = label\n",
        "\n",
        "    def __len__(self):\n",
        "        return len(self.labels)\n",
        "\n",
        "    def __getitem__(self, idx):\n",
        "        input_embeds = torch.unsqueeze(torch.tensor(self.embedding[idx]), 0).to(DEVICE)\n",
        "        return {'inputs_embeds': input_embeds.cpu().detach(), 'labels': self.labels[idx]}\n",
        "    \n",
        "    \n",
        "class CustomCallback(TrainerCallback):\n",
        "    def on_epoch_end(self, args, state, control, **kwargs):\n",
        "        # Log\n",
        "        if args.logging_strategy == IntervalStrategy.EPOCH:\n",
        "            control.should_log = True\n",
        "\n",
        "        # Evaluate\n",
        "        if args.evaluation_strategy == IntervalStrategy.EPOCH and args.eval_delay <= state.epoch:\n",
        "            control.should_evaluate = True\n",
        "\n",
        "        return control\n",
        "    \n",
        "    def check_metric_value(self, args, state, control, metric_value):\n",
        "        operator = np.greater if args.greater_is_better else np.less\n",
        "    \n",
        "        if state.best_metric is None or (\n",
        "            state.best_metric < metric_value\n",
        "        ):\n",
        "            if state.best_model_checkpoint is not None:\n",
        "                for file in os.listdir(state.best_model_checkpoint):\n",
        "                    try:\n",
        "                        os.remove(os.path.join(state.best_model_checkpoint, file))\n",
        "                    except:\n",
        "                        pass\n",
        "                os.rmdir(state.best_model_checkpoint)\n",
        "    \n",
        "            control.should_save = True\n",
        "        else:\n",
        "            control.should_save = False\n",
        "            \n",
        "        return control\n",
        "            \n",
        "    def on_evaluate(self, args, state, control, metrics, **kwargs):\n",
        "        metric_to_check = args.metric_for_best_model\n",
        "        if not metric_to_check.startswith(\"eval_\"):\n",
        "            metric_to_check = f\"eval_{metric_to_check}\"\n",
        "        metric_value = metrics.get(metric_to_check)\n",
        "\n",
        "        if metric_value is None:\n",
        "            logger.warning(\n",
        "                f\"early stopping required metric_for_best_model, but did not find {metric_to_check} so early stopping\"\n",
        "                \" is disabled\"\n",
        "            )\n",
        "            return\n",
        "\n",
        "        control = self.check_metric_value(args, state, control, metric_value)\n",
        "        control.should_validate = False\n",
        "        return control\n",
        "        \n",
        "    \n",
        "X_train, X_val, y_train, y_val = train_test_split(X_train, y_train, test_size=0.2)\n",
        "X_train.shape, X_val.shape"
      ]
    },
    {
      "cell_type": "code",
      "execution_count": null,
      "id": "7479e8e5",
      "metadata": {
        "execution": {
          "iopub.execute_input": "2022-07-22T10:21:31.095717Z",
          "iopub.status.busy": "2022-07-22T10:21:31.094989Z",
          "iopub.status.idle": "2022-07-22T10:21:31.099738Z",
          "shell.execute_reply": "2022-07-22T10:21:31.098721Z"
        },
        "papermill": {
          "duration": 0.013909,
          "end_time": "2022-07-22T10:21:31.102035",
          "exception": false,
          "start_time": "2022-07-22T10:21:31.088126",
          "status": "completed"
        },
        "tags": [],
        "id": "7479e8e5"
      },
      "outputs": [],
      "source": [
        "train = CustomDataset(X_train, y_train)\n",
        "val = CustomDataset(X_val, y_val)"
      ]
    },
    {
      "cell_type": "markdown",
      "source": [
        "## Training"
      ],
      "metadata": {
        "id": "fmDaeSQ7AAfO"
      },
      "id": "fmDaeSQ7AAfO"
    },
    {
      "cell_type": "code",
      "execution_count": null,
      "id": "970ac834",
      "metadata": {
        "execution": {
          "iopub.execute_input": "2022-07-22T10:21:31.114666Z",
          "iopub.status.busy": "2022-07-22T10:21:31.114369Z",
          "iopub.status.idle": "2022-07-22T10:21:35.165182Z",
          "shell.execute_reply": "2022-07-22T10:21:35.162827Z"
        },
        "papermill": {
          "duration": 4.059347,
          "end_time": "2022-07-22T10:21:35.167167",
          "exception": true,
          "start_time": "2022-07-22T10:21:31.107820",
          "status": "failed"
        },
        "tags": [],
        "id": "970ac834"
      },
      "outputs": [],
      "source": [
        "def compute_metrics(eval_pred):\n",
        "    logits, labels = eval_pred\n",
        "    predictions = np.argmax(logits, axis=-1)\n",
        "    return metric.compute(predictions=predictions, references=labels, average='weighted')\n",
        "\n",
        "\n",
        "training_args = TrainingArguments(\n",
        "    num_train_epochs=350, \n",
        "    output_dir=\"test_trainer\", \n",
        "    evaluation_strategy=\"epoch\", \n",
        "    save_strategy=\"epoch\",\n",
        "    metric_for_best_model=\"f1\",\n",
        "    load_best_model_at_end=True,\n",
        "    greater_is_better=True, \n",
        "                                  )\n",
        "metric = load_metric(\"f1\")\n",
        "\n",
        "optimizer = AdamW(model.parameters(), lr=3e-5, weight_decay=0.001, no_deprecation_warning=True)\n",
        "scheduler = get_linear_schedule_with_warmup(optimizer, 10 * 167, 350 * 167)\n",
        "\n",
        "trainer = Trainer(\n",
        "    model=model,\n",
        "    args=training_args,\n",
        "    train_dataset=train,\n",
        "    eval_dataset=val,\n",
        "    compute_metrics=compute_metrics,\n",
        "    callbacks=[CustomCallback], \n",
        "    optimizers=(optimizer, scheduler),\n",
        ")\n",
        "setattr(trainer, \"warnings_issued\", {\"estimate_tokens\": True})\n",
        "trainer.train()\n"
      ]
    },
    {
      "cell_type": "code",
      "execution_count": null,
      "id": "98115fec",
      "metadata": {
        "execution": {
          "iopub.execute_input": "2022-07-22T10:19:35.161566Z",
          "iopub.status.busy": "2022-07-22T10:19:35.161218Z",
          "iopub.status.idle": "2022-07-22T10:19:38.108591Z",
          "shell.execute_reply": "2022-07-22T10:19:38.091071Z",
          "shell.execute_reply.started": "2022-07-22T10:19:35.161535Z"
        },
        "papermill": {
          "duration": null,
          "end_time": null,
          "exception": null,
          "start_time": null,
          "status": "pending"
        },
        "tags": [],
        "id": "98115fec"
      },
      "outputs": [],
      "source": [
        "class CustomEvalDataset(Dataset):\n",
        "    def __init__(self, embedding):\n",
        "        self.embedding = embedding\n",
        "\n",
        "    def __len__(self):\n",
        "        return len(self.embedding)\n",
        "\n",
        "    def __getitem__(self, idx):\n",
        "        input_embeds = torch.unsqueeze(torch.tensor(self.embedding[idx]), 0)\n",
        "        return {'inputs_embeds': input_embeds}\n",
        "\n",
        "\n",
        "eval_model = RobertaForSequenceClassification.from_pretrained(\n",
        "    os.path.join('/kaggle/working/test_trainer', os.listdir('/kaggle/working/test_trainer')[0]), **params\n",
        ")\n",
        "eval_trainer = Trainer(model=eval_model)\n",
        "\n",
        "X_test = np.load(os.path.join(data_folder, 'X_test.npy'))\n",
        "X_test = CustomEvalDataset(X_test)\n",
        "result = eval_trainer.predict(X_test)"
      ]
    },
    {
      "cell_type": "code",
      "execution_count": null,
      "id": "bd266c61",
      "metadata": {
        "papermill": {
          "duration": null,
          "end_time": null,
          "exception": null,
          "start_time": null,
          "status": "pending"
        },
        "tags": [],
        "id": "bd266c61"
      },
      "outputs": [],
      "source": [
        "np.argmax(result[0], axis=1).shape"
      ]
    },
    {
      "cell_type": "code",
      "execution_count": null,
      "id": "952aa96e",
      "metadata": {
        "execution": {
          "iopub.execute_input": "2022-07-22T10:19:42.454634Z",
          "iopub.status.busy": "2022-07-22T10:19:42.454279Z",
          "iopub.status.idle": "2022-07-22T10:19:42.463100Z",
          "shell.execute_reply": "2022-07-22T10:19:42.462130Z",
          "shell.execute_reply.started": "2022-07-22T10:19:42.454602Z"
        },
        "papermill": {
          "duration": null,
          "end_time": null,
          "exception": null,
          "start_time": null,
          "status": "pending"
        },
        "tags": [],
        "id": "952aa96e"
      },
      "outputs": [],
      "source": [
        "labels = np.argmax(result[0], axis=1)"
      ]
    },
    {
      "cell_type": "code",
      "execution_count": null,
      "id": "c23b4d84",
      "metadata": {
        "execution": {
          "iopub.execute_input": "2022-07-22T10:19:44.624525Z",
          "iopub.status.busy": "2022-07-22T10:19:44.623878Z",
          "iopub.status.idle": "2022-07-22T10:19:44.644871Z",
          "shell.execute_reply": "2022-07-22T10:19:44.644028Z",
          "shell.execute_reply.started": "2022-07-22T10:19:44.624481Z"
        },
        "papermill": {
          "duration": null,
          "end_time": null,
          "exception": null,
          "start_time": null,
          "status": "pending"
        },
        "tags": [],
        "id": "c23b4d84"
      },
      "outputs": [],
      "source": [
        "y_test = pd.DataFrame({\n",
        "    'Id': [i for i in range(len(labels))], \n",
        "    'Predicted': labels\n",
        "})\n",
        "y_test.head()"
      ]
    },
    {
      "cell_type": "code",
      "execution_count": null,
      "id": "a65b1a0f",
      "metadata": {
        "execution": {
          "iopub.execute_input": "2022-07-22T10:19:49.133505Z",
          "iopub.status.busy": "2022-07-22T10:19:49.133159Z",
          "iopub.status.idle": "2022-07-22T10:19:49.146470Z",
          "shell.execute_reply": "2022-07-22T10:19:49.145265Z",
          "shell.execute_reply.started": "2022-07-22T10:19:49.133475Z"
        },
        "papermill": {
          "duration": null,
          "end_time": null,
          "exception": null,
          "start_time": null,
          "status": "pending"
        },
        "tags": [],
        "id": "a65b1a0f"
      },
      "outputs": [],
      "source": [
        "y_test.to_csv('y_test.csv', index=False)"
      ]
    }
  ],
  "metadata": {
    "kernelspec": {
      "display_name": "Python 3",
      "language": "python",
      "name": "python3"
    },
    "language_info": {
      "codemirror_mode": {
        "name": "ipython",
        "version": 3
      },
      "file_extension": ".py",
      "mimetype": "text/x-python",
      "name": "python",
      "nbconvert_exporter": "python",
      "pygments_lexer": "ipython3",
      "version": "3.7.12"
    },
    "papermill": {
      "default_parameters": {},
      "duration": 62.394716,
      "end_time": "2022-07-22T10:21:38.735060",
      "environment_variables": {},
      "exception": true,
      "input_path": "__notebook__.ipynb",
      "output_path": "__notebook__.ipynb",
      "parameters": {},
      "start_time": "2022-07-22T10:20:36.340344",
      "version": "2.3.4"
    },
    "colab": {
      "name": "intent_classification.ipynb",
      "provenance": []
    }
  },
  "nbformat": 4,
  "nbformat_minor": 5
}